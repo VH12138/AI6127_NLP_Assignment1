{
  "cells": [
    {
      "cell_type": "markdown",
      "metadata": {},
      "source": [
        "# CNN"
      ]
    },
    {
      "cell_type": "code",
      "execution_count": 1,
      "metadata": {
        "id": "diXAJf2jH1tQ"
      },
      "outputs": [],
      "source": [
        "import torch\n",
        "from torchtext import data\n",
        "\n",
        "SEED = 1234\n",
        "\n",
        "torch.manual_seed(SEED)\n",
        "torch.backends.cudnn.deterministic = True\n",
        "\n",
        "TEXT = data.Field(tokenize = 'spacy',\n",
        "                  tokenizer_language = 'en_core_web_sm',\n",
        "                  include_lengths = True,\n",
        "                  pad_first=True)\n",
        "LABEL = data.LabelField(dtype = torch.float)"
      ]
    },
    {
      "cell_type": "code",
      "execution_count": 2,
      "metadata": {
        "colab": {
          "base_uri": "https://localhost:8080/",
          "height": 335
        },
        "id": "nOTiebiKH1tR",
        "outputId": "0b483757-feea-48d6-8f84-b886966e86e3"
      },
      "outputs": [],
      "source": [
        "from torchtext import datasets\n",
        "\n",
        "train_data, test_data = datasets.IMDB.splits(TEXT, LABEL)"
      ]
    },
    {
      "cell_type": "code",
      "execution_count": 3,
      "metadata": {
        "id": "eCXoOIyVH1tS"
      },
      "outputs": [],
      "source": [
        "import random\n",
        "\n",
        "train_data, valid_data = train_data.split(random_state = random.seed(SEED))"
      ]
    },
    {
      "cell_type": "code",
      "execution_count": 4,
      "metadata": {
        "id": "Kzq6r-FtH1tS"
      },
      "outputs": [],
      "source": [
        "MAX_VOCAB_SIZE = 25_000\n",
        "\n",
        "TEXT.build_vocab(train_data, max_size = MAX_VOCAB_SIZE)\n",
        "LABEL.build_vocab(train_data)"
      ]
    },
    {
      "cell_type": "code",
      "execution_count": 5,
      "metadata": {
        "id": "5QYGHCMfH1tT"
      },
      "outputs": [],
      "source": [
        "BATCH_SIZE = 64\n",
        "\n",
        "device = torch.device('cuda' if torch.cuda.is_available() else 'cpu')\n",
        "\n",
        "train_iterator, valid_iterator, test_iterator = data.BucketIterator.splits(\n",
        "    (train_data, valid_data, test_data),\n",
        "    batch_size = BATCH_SIZE,\n",
        "    sort_within_batch = True,\n",
        "    device = device)"
      ]
    },
    {
      "cell_type": "markdown",
      "metadata": {
        "id": "XqygCp2RH1tT"
      },
      "source": [
        "## Build the Model"
      ]
    },
    {
      "cell_type": "code",
      "execution_count": 6,
      "metadata": {
        "id": "Q5IWVRASH1tT"
      },
      "outputs": [],
      "source": [
        "import torch.nn as nn\n",
        "\n",
        "import numpy as np\n",
        "\n",
        "class CNN(nn.Module):\n",
        "    def __init__(self, input_dim, embedding_dim, hidden_dim, output_dim):\n",
        "        \n",
        "        super().__init__()\n",
        "\n",
        "        self.embedding_dim = embedding_dim\n",
        "        self.hidden_dim = hidden_dim\n",
        "        \n",
        "        self.embedding = nn.Embedding(input_dim, embedding_dim)\n",
        "\n",
        "        self.con1 = nn.Conv1d(embedding_dim, hidden_dim, kernel_size=1) \n",
        "        self.con2 = nn.Conv1d(embedding_dim, hidden_dim, kernel_size=2)\n",
        "        self.con3 = nn.Conv1d(embedding_dim, hidden_dim, kernel_size=3)\n",
        "\n",
        "        self.FL = nn.Linear(3*hidden_dim, output_dim)\n",
        "\n",
        "\n",
        "        \n",
        "    def forward(self, text, text_lengths):\n",
        "        #text = [sent len, batch size]\n",
        "\n",
        "        embedded = self.embedding(text)\n",
        "        #embedded = [sent len, batch size, emb dim]\n",
        "        embedded = torch.permute(embedded, (1,2,0))\n",
        "        # embedded = [batch size, emb dim, sent len]\n",
        "\n",
        "\n",
        "        output1 = self.con1(embedded) #[batch size, hidden dim, out_con1]\n",
        "        output1 = torch.max(output1, dim=2).values #[batch size, hidden dim]\n",
        "\n",
        "        output2 = self.con2(embedded) #[batch size, hidden dim, out_con2]\n",
        "        output2 = torch.max(output2, dim=2).values #[batch size, hidden dim]\n",
        "\n",
        "        output3 = self.con3(embedded) #[batch size, hidden dim, out_con3]\n",
        "        output3 = torch.max(output3, dim=2).values #[batch size, hidden dim]\n",
        "\n",
        "        output = torch.cat((output1, output2, output3), 1) #[batch size, 3* hidden dim]\n",
        "\n",
        "        return self.FL(output) #[batch size, 1]"
      ]
    },
    {
      "cell_type": "code",
      "execution_count": 7,
      "metadata": {
        "id": "C-NMrSMCH1tT"
      },
      "outputs": [
        {
          "name": "stdout",
          "output_type": "stream",
          "text": [
            "The model has 2,655,337 trainable parameters\n",
            "<class 'torch.nn.parameter.Parameter'> torch.Size([25002, 100])\n",
            "<class 'torch.nn.parameter.Parameter'> torch.Size([256, 100, 1])\n",
            "<class 'torch.nn.parameter.Parameter'> torch.Size([256])\n",
            "<class 'torch.nn.parameter.Parameter'> torch.Size([256, 100, 2])\n",
            "<class 'torch.nn.parameter.Parameter'> torch.Size([256])\n",
            "<class 'torch.nn.parameter.Parameter'> torch.Size([256, 100, 3])\n",
            "<class 'torch.nn.parameter.Parameter'> torch.Size([256])\n",
            "<class 'torch.nn.parameter.Parameter'> torch.Size([1, 768])\n",
            "<class 'torch.nn.parameter.Parameter'> torch.Size([1])\n"
          ]
        }
      ],
      "source": [
        "INPUT_DIM = len(TEXT.vocab)\n",
        "EMBEDDING_DIM = 100\n",
        "HIDDEN_DIM = 256\n",
        "OUTPUT_DIM = 1\n",
        "\n",
        "def count_parameters(model):\n",
        "    return sum(p.numel() for p in model.parameters() if p.requires_grad)\n",
        "\n",
        "model_CNN = CNN(INPUT_DIM, EMBEDDING_DIM, HIDDEN_DIM, OUTPUT_DIM)\n",
        "print(f'The model has {count_parameters(model_CNN):,} trainable parameters')\n",
        "\n",
        "for p in model_CNN.parameters():\n",
        "  print(type(p), p.size())"
      ]
    },
    {
      "cell_type": "markdown",
      "metadata": {
        "id": "wrkr-KlaH1tU"
      },
      "source": [
        "## Train the Model"
      ]
    },
    {
      "cell_type": "code",
      "execution_count": 8,
      "metadata": {
        "id": "GvMIccglH1tU"
      },
      "outputs": [],
      "source": [
        "import torch.optim as optim\n",
        "\n",
        "criterion = nn.BCEWithLogitsLoss()\n",
        "criterion = criterion.to(device)"
      ]
    },
    {
      "cell_type": "code",
      "execution_count": 9,
      "metadata": {
        "id": "wp5qxRMeH1tU"
      },
      "outputs": [],
      "source": [
        "def binary_accuracy(preds, y):\n",
        "    \"\"\"\n",
        "    Returns accuracy per batch, i.e. if you get 8/10 right, this returns 0.8, NOT 8\n",
        "    \"\"\"\n",
        "\n",
        "    #round predictions to the closest integer\n",
        "    rounded_preds = torch.round(torch.sigmoid(preds))\n",
        "    correct = (rounded_preds == y).float() #convert into float for division\n",
        "    acc = correct.sum() / len(correct)\n",
        "    return acc"
      ]
    },
    {
      "cell_type": "code",
      "execution_count": 10,
      "metadata": {
        "id": "nqCbCqPuH1tU"
      },
      "outputs": [],
      "source": [
        "def train(model, iterator, optimizer, criterion):\n",
        "\n",
        "    epoch_loss = 0\n",
        "    epoch_acc = 0\n",
        "\n",
        "    model.train()\n",
        "\n",
        "    for batch in iterator:\n",
        "\n",
        "        optimizer.zero_grad()\n",
        "\n",
        "        text, text_lengths = batch.text\n",
        "\n",
        "        predictions = model(text, text_lengths).squeeze(1)\n",
        "\n",
        "        loss = criterion(predictions, batch.label)\n",
        "\n",
        "        acc = binary_accuracy(predictions, batch.label)\n",
        "\n",
        "        loss.backward()\n",
        "\n",
        "        optimizer.step()\n",
        "\n",
        "        epoch_loss += loss.item()\n",
        "        epoch_acc += acc.item()\n",
        "\n",
        "    return epoch_loss / len(iterator), epoch_acc / len(iterator)"
      ]
    },
    {
      "cell_type": "code",
      "execution_count": 11,
      "metadata": {
        "id": "eS3rZWzhH1tU"
      },
      "outputs": [],
      "source": [
        "def evaluate(model, iterator, criterion):\n",
        "\n",
        "    epoch_loss = 0\n",
        "    epoch_acc = 0\n",
        "\n",
        "    model.eval()\n",
        "\n",
        "    with torch.no_grad():\n",
        "\n",
        "        for batch in iterator:\n",
        "            text, text_lengths = batch.text\n",
        "\n",
        "            predictions = model(text, text_lengths).squeeze(1)\n",
        "\n",
        "            loss = criterion(predictions, batch.label)\n",
        "\n",
        "            acc = binary_accuracy(predictions, batch.label)\n",
        "\n",
        "            epoch_loss += loss.item()\n",
        "            epoch_acc += acc.item()\n",
        "\n",
        "    return epoch_loss / len(iterator), epoch_acc / len(iterator)"
      ]
    },
    {
      "cell_type": "code",
      "execution_count": 12,
      "metadata": {
        "id": "EzkEdOh_H1tU"
      },
      "outputs": [],
      "source": [
        "import time\n",
        "\n",
        "def epoch_time(start_time, end_time):\n",
        "    elapsed_time = end_time - start_time\n",
        "    elapsed_mins = int(elapsed_time / 60)\n",
        "    elapsed_secs = int(elapsed_time - (elapsed_mins * 60))\n",
        "    return elapsed_mins, elapsed_secs"
      ]
    },
    {
      "cell_type": "code",
      "execution_count": 14,
      "metadata": {
        "id": "eAjehc9qH1tV"
      },
      "outputs": [
        {
          "name": "stdout",
          "output_type": "stream",
          "text": [
            "Epoch: 01 | Epoch Time: 0m 7s\n",
            "\tTrain Loss: 0.000 | Train Acc: 100.00%\n",
            "\t Val. Loss: 0.554 |  Val. Acc: 89.31%\n",
            "Epoch: 02 | Epoch Time: 0m 7s\n",
            "\tTrain Loss: 0.000 | Train Acc: 100.00%\n",
            "\t Val. Loss: 0.644 |  Val. Acc: 88.86%\n",
            "Epoch: 03 | Epoch Time: 0m 6s\n",
            "\tTrain Loss: 0.021 | Train Acc: 99.42%\n",
            "\t Val. Loss: 0.621 |  Val. Acc: 88.95%\n",
            "Epoch: 04 | Epoch Time: 0m 6s\n",
            "\tTrain Loss: 0.001 | Train Acc: 99.99%\n",
            "\t Val. Loss: 0.617 |  Val. Acc: 89.01%\n",
            "Epoch: 05 | Epoch Time: 0m 6s\n",
            "\tTrain Loss: 0.000 | Train Acc: 100.00%\n",
            "\t Val. Loss: 0.617 |  Val. Acc: 89.08%\n",
            "Epoch: 06 | Epoch Time: 0m 7s\n",
            "\tTrain Loss: 0.000 | Train Acc: 100.00%\n",
            "\t Val. Loss: 0.616 |  Val. Acc: 89.15%\n",
            "Epoch: 07 | Epoch Time: 0m 7s\n",
            "\tTrain Loss: 0.000 | Train Acc: 100.00%\n",
            "\t Val. Loss: 0.615 |  Val. Acc: 89.11%\n",
            "Epoch: 08 | Epoch Time: 0m 7s\n",
            "\tTrain Loss: 0.000 | Train Acc: 100.00%\n",
            "\t Val. Loss: 0.615 |  Val. Acc: 89.15%\n",
            "Epoch: 09 | Epoch Time: 0m 7s\n",
            "\tTrain Loss: 0.000 | Train Acc: 100.00%\n",
            "\t Val. Loss: 0.614 |  Val. Acc: 89.13%\n",
            "Epoch: 10 | Epoch Time: 0m 7s\n",
            "\tTrain Loss: 0.000 | Train Acc: 100.00%\n",
            "\t Val. Loss: 0.614 |  Val. Acc: 89.17%\n",
            "Epoch: 11 | Epoch Time: 0m 7s\n",
            "\tTrain Loss: 0.000 | Train Acc: 100.00%\n",
            "\t Val. Loss: 0.614 |  Val. Acc: 89.19%\n",
            "Epoch: 12 | Epoch Time: 0m 7s\n",
            "\tTrain Loss: 0.000 | Train Acc: 100.00%\n",
            "\t Val. Loss: 0.613 |  Val. Acc: 89.17%\n",
            "Epoch: 13 | Epoch Time: 0m 7s\n",
            "\tTrain Loss: 0.000 | Train Acc: 100.00%\n",
            "\t Val. Loss: 0.613 |  Val. Acc: 89.20%\n",
            "Epoch: 14 | Epoch Time: 0m 7s\n",
            "\tTrain Loss: 0.000 | Train Acc: 100.00%\n",
            "\t Val. Loss: 0.613 |  Val. Acc: 89.19%\n",
            "Epoch: 15 | Epoch Time: 0m 7s\n",
            "\tTrain Loss: 0.000 | Train Acc: 100.00%\n",
            "\t Val. Loss: 0.613 |  Val. Acc: 89.20%\n",
            "Epoch: 16 | Epoch Time: 0m 7s\n",
            "\tTrain Loss: 0.000 | Train Acc: 100.00%\n",
            "\t Val. Loss: 0.613 |  Val. Acc: 89.19%\n",
            "Epoch: 17 | Epoch Time: 0m 7s\n",
            "\tTrain Loss: 0.000 | Train Acc: 100.00%\n",
            "\t Val. Loss: 0.612 |  Val. Acc: 89.24%\n",
            "Epoch: 18 | Epoch Time: 0m 7s\n",
            "\tTrain Loss: 0.000 | Train Acc: 100.00%\n",
            "\t Val. Loss: 0.612 |  Val. Acc: 89.20%\n",
            "Epoch: 19 | Epoch Time: 0m 7s\n",
            "\tTrain Loss: 0.000 | Train Acc: 100.00%\n",
            "\t Val. Loss: 0.612 |  Val. Acc: 89.25%\n",
            "Epoch: 20 | Epoch Time: 0m 7s\n",
            "\tTrain Loss: 0.000 | Train Acc: 100.00%\n",
            "\t Val. Loss: 0.612 |  Val. Acc: 89.27%\n",
            "Epoch: 21 | Epoch Time: 0m 7s\n",
            "\tTrain Loss: 0.000 | Train Acc: 100.00%\n",
            "\t Val. Loss: 0.612 |  Val. Acc: 89.27%\n",
            "Epoch: 22 | Epoch Time: 0m 7s\n",
            "\tTrain Loss: 0.000 | Train Acc: 100.00%\n",
            "\t Val. Loss: 0.612 |  Val. Acc: 89.28%\n",
            "Epoch: 23 | Epoch Time: 0m 7s\n",
            "\tTrain Loss: 0.000 | Train Acc: 100.00%\n",
            "\t Val. Loss: 0.612 |  Val. Acc: 89.24%\n",
            "Epoch: 24 | Epoch Time: 0m 7s\n",
            "\tTrain Loss: 0.000 | Train Acc: 100.00%\n",
            "\t Val. Loss: 0.612 |  Val. Acc: 89.28%\n",
            "Epoch: 25 | Epoch Time: 0m 7s\n",
            "\tTrain Loss: 0.000 | Train Acc: 100.00%\n",
            "\t Val. Loss: 0.612 |  Val. Acc: 89.28%\n",
            "Epoch: 26 | Epoch Time: 0m 7s\n",
            "\tTrain Loss: 0.000 | Train Acc: 100.00%\n",
            "\t Val. Loss: 0.613 |  Val. Acc: 89.29%\n",
            "Epoch: 27 | Epoch Time: 0m 7s\n",
            "\tTrain Loss: 0.000 | Train Acc: 100.00%\n",
            "\t Val. Loss: 0.613 |  Val. Acc: 89.29%\n",
            "Epoch: 28 | Epoch Time: 0m 7s\n",
            "\tTrain Loss: 0.000 | Train Acc: 100.00%\n",
            "\t Val. Loss: 0.613 |  Val. Acc: 89.29%\n",
            "Epoch: 29 | Epoch Time: 0m 7s\n",
            "\tTrain Loss: 0.000 | Train Acc: 100.00%\n",
            "\t Val. Loss: 0.614 |  Val. Acc: 89.29%\n",
            "Epoch: 30 | Epoch Time: 0m 7s\n",
            "\tTrain Loss: 0.000 | Train Acc: 100.00%\n",
            "\t Val. Loss: 0.614 |  Val. Acc: 89.33%\n",
            "Epoch: 31 | Epoch Time: 0m 7s\n",
            "\tTrain Loss: 0.000 | Train Acc: 100.00%\n",
            "\t Val. Loss: 0.615 |  Val. Acc: 89.32%\n",
            "Epoch: 32 | Epoch Time: 0m 7s\n",
            "\tTrain Loss: 0.000 | Train Acc: 100.00%\n",
            "\t Val. Loss: 0.615 |  Val. Acc: 89.28%\n",
            "Epoch: 33 | Epoch Time: 0m 7s\n",
            "\tTrain Loss: 0.000 | Train Acc: 100.00%\n",
            "\t Val. Loss: 0.616 |  Val. Acc: 89.34%\n",
            "Epoch: 34 | Epoch Time: 0m 7s\n",
            "\tTrain Loss: 0.000 | Train Acc: 100.00%\n",
            "\t Val. Loss: 0.616 |  Val. Acc: 89.34%\n",
            "Epoch: 35 | Epoch Time: 0m 7s\n",
            "\tTrain Loss: 0.000 | Train Acc: 100.00%\n",
            "\t Val. Loss: 0.617 |  Val. Acc: 89.31%\n",
            "Epoch: 36 | Epoch Time: 0m 7s\n",
            "\tTrain Loss: 0.000 | Train Acc: 100.00%\n",
            "\t Val. Loss: 0.618 |  Val. Acc: 89.34%\n",
            "Epoch: 37 | Epoch Time: 0m 7s\n",
            "\tTrain Loss: 0.000 | Train Acc: 100.00%\n",
            "\t Val. Loss: 0.619 |  Val. Acc: 89.33%\n",
            "Epoch: 38 | Epoch Time: 0m 7s\n",
            "\tTrain Loss: 0.000 | Train Acc: 100.00%\n",
            "\t Val. Loss: 0.620 |  Val. Acc: 89.38%\n",
            "Epoch: 39 | Epoch Time: 0m 7s\n",
            "\tTrain Loss: 0.000 | Train Acc: 100.00%\n",
            "\t Val. Loss: 0.621 |  Val. Acc: 89.36%\n",
            "Epoch: 40 | Epoch Time: 0m 7s\n",
            "\tTrain Loss: 0.000 | Train Acc: 100.00%\n",
            "\t Val. Loss: 0.622 |  Val. Acc: 89.36%\n",
            "Epoch: 41 | Epoch Time: 0m 7s\n",
            "\tTrain Loss: 0.000 | Train Acc: 100.00%\n",
            "\t Val. Loss: 0.624 |  Val. Acc: 89.32%\n",
            "Epoch: 42 | Epoch Time: 0m 7s\n",
            "\tTrain Loss: 0.000 | Train Acc: 100.00%\n",
            "\t Val. Loss: 0.625 |  Val. Acc: 89.37%\n",
            "Epoch: 43 | Epoch Time: 0m 7s\n",
            "\tTrain Loss: 0.000 | Train Acc: 100.00%\n",
            "\t Val. Loss: 0.627 |  Val. Acc: 89.34%\n",
            "Epoch: 44 | Epoch Time: 0m 7s\n",
            "\tTrain Loss: 0.000 | Train Acc: 100.00%\n",
            "\t Val. Loss: 0.629 |  Val. Acc: 89.38%\n",
            "Epoch: 45 | Epoch Time: 0m 7s\n",
            "\tTrain Loss: 0.000 | Train Acc: 100.00%\n",
            "\t Val. Loss: 0.630 |  Val. Acc: 89.37%\n",
            "Epoch: 46 | Epoch Time: 0m 7s\n",
            "\tTrain Loss: 0.000 | Train Acc: 100.00%\n",
            "\t Val. Loss: 0.632 |  Val. Acc: 89.37%\n",
            "Epoch: 47 | Epoch Time: 0m 7s\n",
            "\tTrain Loss: 0.000 | Train Acc: 100.00%\n",
            "\t Val. Loss: 0.634 |  Val. Acc: 89.42%\n",
            "Epoch: 48 | Epoch Time: 0m 7s\n",
            "\tTrain Loss: 0.000 | Train Acc: 100.00%\n",
            "\t Val. Loss: 0.636 |  Val. Acc: 89.32%\n",
            "Epoch: 49 | Epoch Time: 0m 7s\n",
            "\tTrain Loss: 0.000 | Train Acc: 100.00%\n",
            "\t Val. Loss: 0.638 |  Val. Acc: 89.41%\n",
            "Epoch: 50 | Epoch Time: 0m 7s\n",
            "\tTrain Loss: 0.000 | Train Acc: 100.00%\n",
            "\t Val. Loss: 0.640 |  Val. Acc: 89.44%\n",
            "Test Loss: 0.540 | Test Acc: 89.25%\n"
          ]
        },
        {
          "data": {
            "image/png": "[encoded data removed]",
            "text/plain": [
              "<Figure size 1000x1200 with 2 Axes>"
            ]
          },
          "metadata": {},
          "output_type": "display_data"
        }
      ],
      "source": [
        "import matplotlib.pyplot as plt\n",
        "\n",
        "optimizer_Adam = optim.Adam(model_CNN.parameters(), lr=1e-3)\n",
        "model_CNN = model_CNN.to(device)\n",
        "\n",
        "N_EPOCHS = 50\n",
        "\n",
        "train_loss_CNN = []\n",
        "train_acc_CNN = []\n",
        "val_loss_CNN = []\n",
        "val_acc_CNN = []\n",
        "best_valid_loss = float('inf')\n",
        "\n",
        "for epoch in range(N_EPOCHS):\n",
        "\n",
        "    start_time = time.time()\n",
        "    \n",
        "    train_loss, train_acc = train(model_CNN, train_iterator, optimizer_Adam, criterion)\n",
        "    valid_loss, valid_acc = evaluate(model_CNN, valid_iterator, criterion)\n",
        "    \n",
        "    end_time = time.time()\n",
        "\n",
        "    epoch_mins, epoch_secs = epoch_time(start_time, end_time)\n",
        "    \n",
        "    if valid_loss < best_valid_loss:\n",
        "        best_valid_loss = valid_loss\n",
        "        torch.save(model_CNN.state_dict(), 'model_CNN.pt')\n",
        "    \n",
        "    train_loss_CNN.append(train_loss)\n",
        "    train_acc_CNN.append(train_acc)\n",
        "    val_loss_CNN.append(valid_loss)\n",
        "    val_acc_CNN.append(valid_acc)\n",
        "\n",
        "    print(f'Epoch: {epoch+1:02} | Epoch Time: {epoch_mins}m {epoch_secs}s')\n",
        "    print(f'\\tTrain Loss: {train_loss:.3f} | Train Acc: {train_acc*100:.2f}%')\n",
        "    print(f'\\t Val. Loss: {valid_loss:.3f} |  Val. Acc: {valid_acc*100:.2f}%')\n",
        "\n",
        "\n",
        "fig, (ax1, ax2) = plt.subplots(2,1, figsize=(10,12))\n",
        "ax1.plot(train_loss_CNN, 'r-', label='train_loss_CNN')\n",
        "ax1.plot(val_loss_CNN, 'r--', label='val_loss_CNN')\n",
        "ax2.plot(train_acc_CNN, 'r-', label='train_acc_CNN')\n",
        "ax2.plot(val_acc_CNN, 'r--', label='val_acc_CNN')\n",
        "\n",
        "ax1.set_xticks([0,9,19,29,39,49], labels=[1,10,20,30,40,50])\n",
        "ax1.set_xlabel('Epoch')\n",
        "ax1.set_ylabel('Loss')\n",
        "ax1.legend()\n",
        "ax2.set_xticks([0,9,19,29,39,49], labels=[1,10,20,30,40,50])\n",
        "ax2.set_xlabel('Epoch')\n",
        "ax2.set_ylabel('Accuracy')\n",
        "ax2.legend()\n",
        "\n",
        "\n",
        "# \n",
        "model_CNN.load_state_dict(torch.load('model_CNN.pt'))\n",
        "\n",
        "test_loss_CNN, test_acc_CNN = evaluate(model_CNN, test_iterator, criterion)\n",
        "\n",
        "print(f'Test Loss: {test_loss_CNN:.3f} | Test Acc: {test_acc_CNN*100:.2f}%')"
      ]
    }
  ],
  "metadata": {
    "accelerator": "GPU",
    "colab": {
      "gpuType": "T4",
      "provenance": []
    },
    "kernelspec": {
      "display_name": "Python 3",
      "name": "python3"
    },
    "language_info": {
      "codemirror_mode": {
        "name": "ipython",
        "version": 3
      },
      "file_extension": ".py",
      "mimetype": "text/x-python",
      "name": "python",
      "nbconvert_exporter": "python",
      "pygments_lexer": "ipython3",
      "version": "3.11.7"
    }
  },
  "nbformat": 4,
  "nbformat_minor": 0
}
